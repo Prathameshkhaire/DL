{
 "cells": [
  {
   "cell_type": "code",
   "execution_count": 2,
   "id": "81e1463f",
   "metadata": {},
   "outputs": [],
   "source": [
    "import pandas as pd"
   ]
  },
  {
   "cell_type": "code",
   "execution_count": 3,
   "id": "283740f6",
   "metadata": {},
   "outputs": [],
   "source": [
    "df = pd.read_csv(\"BostonHousing.csv\")"
   ]
  },
  {
   "cell_type": "code",
   "execution_count": 4,
   "id": "7cebe8c7",
   "metadata": {},
   "outputs": [
    {
     "data": {
      "text/html": [
       "<div>\n",
       "<style scoped>\n",
       "    .dataframe tbody tr th:only-of-type {\n",
       "        vertical-align: middle;\n",
       "    }\n",
       "\n",
       "    .dataframe tbody tr th {\n",
       "        vertical-align: top;\n",
       "    }\n",
       "\n",
       "    .dataframe thead th {\n",
       "        text-align: right;\n",
       "    }\n",
       "</style>\n",
       "<table border=\"1\" class=\"dataframe\">\n",
       "  <thead>\n",
       "    <tr style=\"text-align: right;\">\n",
       "      <th></th>\n",
       "      <th>crim</th>\n",
       "      <th>zn</th>\n",
       "      <th>indus</th>\n",
       "      <th>chas</th>\n",
       "      <th>nox</th>\n",
       "      <th>rm</th>\n",
       "      <th>age</th>\n",
       "      <th>dis</th>\n",
       "      <th>rad</th>\n",
       "      <th>tax</th>\n",
       "      <th>ptratio</th>\n",
       "      <th>b</th>\n",
       "      <th>lstat</th>\n",
       "      <th>medv</th>\n",
       "    </tr>\n",
       "  </thead>\n",
       "  <tbody>\n",
       "    <tr>\n",
       "      <th>0</th>\n",
       "      <td>0.00632</td>\n",
       "      <td>18.0</td>\n",
       "      <td>2.31</td>\n",
       "      <td>0</td>\n",
       "      <td>0.538</td>\n",
       "      <td>6.575</td>\n",
       "      <td>65.2</td>\n",
       "      <td>4.0900</td>\n",
       "      <td>1</td>\n",
       "      <td>296</td>\n",
       "      <td>15.3</td>\n",
       "      <td>396.90</td>\n",
       "      <td>4.98</td>\n",
       "      <td>24.0</td>\n",
       "    </tr>\n",
       "    <tr>\n",
       "      <th>1</th>\n",
       "      <td>0.02731</td>\n",
       "      <td>0.0</td>\n",
       "      <td>7.07</td>\n",
       "      <td>0</td>\n",
       "      <td>0.469</td>\n",
       "      <td>6.421</td>\n",
       "      <td>78.9</td>\n",
       "      <td>4.9671</td>\n",
       "      <td>2</td>\n",
       "      <td>242</td>\n",
       "      <td>17.8</td>\n",
       "      <td>396.90</td>\n",
       "      <td>9.14</td>\n",
       "      <td>21.6</td>\n",
       "    </tr>\n",
       "    <tr>\n",
       "      <th>2</th>\n",
       "      <td>0.02729</td>\n",
       "      <td>0.0</td>\n",
       "      <td>7.07</td>\n",
       "      <td>0</td>\n",
       "      <td>0.469</td>\n",
       "      <td>7.185</td>\n",
       "      <td>61.1</td>\n",
       "      <td>4.9671</td>\n",
       "      <td>2</td>\n",
       "      <td>242</td>\n",
       "      <td>17.8</td>\n",
       "      <td>392.83</td>\n",
       "      <td>4.03</td>\n",
       "      <td>34.7</td>\n",
       "    </tr>\n",
       "    <tr>\n",
       "      <th>3</th>\n",
       "      <td>0.03237</td>\n",
       "      <td>0.0</td>\n",
       "      <td>2.18</td>\n",
       "      <td>0</td>\n",
       "      <td>0.458</td>\n",
       "      <td>6.998</td>\n",
       "      <td>45.8</td>\n",
       "      <td>6.0622</td>\n",
       "      <td>3</td>\n",
       "      <td>222</td>\n",
       "      <td>18.7</td>\n",
       "      <td>394.63</td>\n",
       "      <td>2.94</td>\n",
       "      <td>33.4</td>\n",
       "    </tr>\n",
       "    <tr>\n",
       "      <th>4</th>\n",
       "      <td>0.06905</td>\n",
       "      <td>0.0</td>\n",
       "      <td>2.18</td>\n",
       "      <td>0</td>\n",
       "      <td>0.458</td>\n",
       "      <td>7.147</td>\n",
       "      <td>54.2</td>\n",
       "      <td>6.0622</td>\n",
       "      <td>3</td>\n",
       "      <td>222</td>\n",
       "      <td>18.7</td>\n",
       "      <td>396.90</td>\n",
       "      <td>5.33</td>\n",
       "      <td>36.2</td>\n",
       "    </tr>\n",
       "  </tbody>\n",
       "</table>\n",
       "</div>"
      ],
      "text/plain": [
       "      crim    zn  indus  chas    nox     rm   age     dis  rad  tax  ptratio   \n",
       "0  0.00632  18.0   2.31     0  0.538  6.575  65.2  4.0900    1  296     15.3  \\\n",
       "1  0.02731   0.0   7.07     0  0.469  6.421  78.9  4.9671    2  242     17.8   \n",
       "2  0.02729   0.0   7.07     0  0.469  7.185  61.1  4.9671    2  242     17.8   \n",
       "3  0.03237   0.0   2.18     0  0.458  6.998  45.8  6.0622    3  222     18.7   \n",
       "4  0.06905   0.0   2.18     0  0.458  7.147  54.2  6.0622    3  222     18.7   \n",
       "\n",
       "        b  lstat  medv  \n",
       "0  396.90   4.98  24.0  \n",
       "1  396.90   9.14  21.6  \n",
       "2  392.83   4.03  34.7  \n",
       "3  394.63   2.94  33.4  \n",
       "4  396.90   5.33  36.2  "
      ]
     },
     "execution_count": 4,
     "metadata": {},
     "output_type": "execute_result"
    }
   ],
   "source": [
    "df.head(5)"
   ]
  },
  {
   "cell_type": "code",
   "execution_count": 23,
   "id": "c772cdb1",
   "metadata": {},
   "outputs": [],
   "source": [
    "import tensorflow as tf\n",
    "from sklearn.model_selection import train_test_split\n",
    "from sklearn. preprocessing import StandardScaler\n",
    "from sklearn import metrics\n",
    "import pandas as pd\n",
    "import numpy as np\n",
    "import matplotlib. pyplot as plt\n",
    "import seaborn as sns\n",
    "%matplotlib inline\n",
    "from tqdm.notebook import tqdm\n"
   ]
  },
  {
   "cell_type": "code",
   "execution_count": 15,
   "id": "868a3c9e",
   "metadata": {},
   "outputs": [],
   "source": [
    "boston = tf.keras.datasets.boston_housing"
   ]
  },
  {
   "cell_type": "code",
   "execution_count": 16,
   "id": "68a62d8c",
   "metadata": {},
   "outputs": [
    {
     "name": "stdout",
     "output_type": "stream",
     "text": [
      "Downloading data from https://storage.googleapis.com/tensorflow/tf-keras-datasets/boston_housing.npz\n",
      "57026/57026 [==============================] - 0s 4us/step\n"
     ]
    }
   ],
   "source": [
    "boston_data = boston.load_data()"
   ]
  },
  {
   "cell_type": "code",
   "execution_count": 18,
   "id": "0dc259c0",
   "metadata": {},
   "outputs": [],
   "source": [
    "(x_train, y_train), (x_test, y_test) = tf.keras.datasets.boston_housing.load_data(test_split=0.2, seed=42)"
   ]
  },
  {
   "cell_type": "code",
   "execution_count": 19,
   "id": "aea9d25b",
   "metadata": {},
   "outputs": [
    {
     "data": {
      "text/plain": [
       "((404, 13), (404,), (102, 13), (102,))"
      ]
     },
     "execution_count": 19,
     "metadata": {},
     "output_type": "execute_result"
    }
   ],
   "source": [
    "x_train.shape, y_train.shape, x_test.shape, y_test.shape"
   ]
  },
  {
   "cell_type": "code",
   "execution_count": 24,
   "id": "0333592b",
   "metadata": {},
   "outputs": [],
   "source": [
    "scaler = StandardScaler()"
   ]
  },
  {
   "cell_type": "code",
   "execution_count": 25,
   "id": "f03812d4",
   "metadata": {},
   "outputs": [],
   "source": [
    "x_train_scaled = scaler.fit_transform(x_train)\n",
    "x_test_scaled = scaler.transform(x_test)\n",
    "\n",
    "y_train_scaled = scaler.fit_transform(y_train.reshape(-1, 1))\n",
    "y_test_scaled = scaler.transform(y_test.reshape(-1, 1))\n"
   ]
  },
  {
   "cell_type": "code",
   "execution_count": 30,
   "id": "2005ddd1",
   "metadata": {},
   "outputs": [],
   "source": [
    "model = tf.keras.models.Sequential ([\n",
    "tf.keras.layers.Input(shape=(13), name='input-layer'),\n",
    "tf.keras.layers.Dense(100, name='hidden-layer-2'),\n",
    "tf.keras.layers.BatchNormalization(name='hidden-layer-3'),\n",
    "tf.keras.layers.Dense(50, name='hidden-layer-4'),\n",
    "tf.keras.layers.Dense(1, name='output-layer')\n",
    "])"
   ]
  },
  {
   "cell_type": "code",
   "execution_count": 31,
   "id": "e5ea74f5",
   "metadata": {},
   "outputs": [
    {
     "name": "stdout",
     "output_type": "stream",
     "text": [
      "Model: \"sequential_2\"\n",
      "_________________________________________________________________\n",
      " Layer (type)                Output Shape              Param #   \n",
      "=================================================================\n",
      " hidden-layer-2 (Dense)      (None, 100)               1400      \n",
      "                                                                 \n",
      " hidden-layer-3 (BatchNormal  (None, 100)              400       \n",
      " ization)                                                        \n",
      "                                                                 \n",
      " hidden-layer-4 (Dense)      (None, 50)                5050      \n",
      "                                                                 \n",
      " output-layer (Dense)        (None, 1)                 51        \n",
      "                                                                 \n",
      "=================================================================\n",
      "Total params: 6,901\n",
      "Trainable params: 6,701\n",
      "Non-trainable params: 200\n",
      "_________________________________________________________________\n"
     ]
    }
   ],
   "source": [
    "model. summary()"
   ]
  },
  {
   "cell_type": "code",
   "execution_count": 32,
   "id": "dc502c2e",
   "metadata": {},
   "outputs": [],
   "source": [
    "model.compile(optimizer='adam', loss='mse',metrics=['mae'])"
   ]
  },
  {
   "cell_type": "code",
   "execution_count": 33,
   "id": "5aa85ad9",
   "metadata": {},
   "outputs": [
    {
     "name": "stdout",
     "output_type": "stream",
     "text": [
      "Epoch 1/20\n",
      "13/13 [==============================] - 3s 13ms/step - loss: 570.5671 - mae: 22.3700 - val_loss: 2448.0544 - val_mae: 46.4905\n",
      "Epoch 2/20\n",
      "13/13 [==============================] - 0s 3ms/step - loss: 548.3130 - mae: 22.0393 - val_loss: 820.8315 - val_mae: 26.9014\n",
      "Epoch 3/20\n",
      "13/13 [==============================] - 0s 3ms/step - loss: 524.3058 - mae: 21.6363 - val_loss: 784.9453 - val_mae: 26.6444\n",
      "Epoch 4/20\n",
      "13/13 [==============================] - 0s 3ms/step - loss: 496.9857 - mae: 21.0380 - val_loss: 794.4642 - val_mae: 27.1049\n",
      "Epoch 5/20\n",
      "13/13 [==============================] - 0s 2ms/step - loss: 452.9112 - mae: 20.1148 - val_loss: 650.0784 - val_mae: 24.5660\n",
      "Epoch 6/20\n",
      "13/13 [==============================] - 0s 3ms/step - loss: 386.2831 - mae: 18.5949 - val_loss: 495.6626 - val_mae: 21.3632\n",
      "Epoch 7/20\n",
      "13/13 [==============================] - 0s 3ms/step - loss: 295.9033 - mae: 16.1361 - val_loss: 292.2125 - val_mae: 16.1574\n",
      "Epoch 8/20\n",
      "13/13 [==============================] - 0s 3ms/step - loss: 192.8580 - mae: 12.5967 - val_loss: 334.9446 - val_mae: 17.4186\n",
      "Epoch 9/20\n",
      "13/13 [==============================] - 0s 3ms/step - loss: 99.7170 - mae: 8.4274 - val_loss: 244.1635 - val_mae: 14.2609\n",
      "Epoch 10/20\n",
      "13/13 [==============================] - 0s 3ms/step - loss: 49.0234 - mae: 5.2385 - val_loss: 37.2998 - val_mae: 4.5062\n",
      "Epoch 11/20\n",
      "13/13 [==============================] - 0s 3ms/step - loss: 34.1038 - mae: 4.3048 - val_loss: 58.8890 - val_mae: 5.8486\n",
      "Epoch 12/20\n",
      "13/13 [==============================] - 0s 3ms/step - loss: 34.2799 - mae: 4.3675 - val_loss: 143.6954 - val_mae: 10.6776\n",
      "Epoch 13/20\n",
      "13/13 [==============================] - 0s 3ms/step - loss: 33.2114 - mae: 4.2927 - val_loss: 74.6028 - val_mae: 7.0694\n",
      "Epoch 14/20\n",
      "13/13 [==============================] - 0s 3ms/step - loss: 29.0321 - mae: 4.0394 - val_loss: 106.2547 - val_mae: 8.7760\n",
      "Epoch 15/20\n",
      "13/13 [==============================] - 0s 3ms/step - loss: 33.8903 - mae: 4.2551 - val_loss: 34.8614 - val_mae: 4.4423\n",
      "Epoch 16/20\n",
      "13/13 [==============================] - 0s 3ms/step - loss: 29.2545 - mae: 3.9559 - val_loss: 82.0146 - val_mae: 7.5362\n",
      "Epoch 17/20\n",
      "13/13 [==============================] - 0s 3ms/step - loss: 27.3692 - mae: 3.8574 - val_loss: 27.1257 - val_mae: 3.7014\n",
      "Epoch 18/20\n",
      "13/13 [==============================] - 0s 3ms/step - loss: 27.5665 - mae: 3.7812 - val_loss: 49.8423 - val_mae: 5.2934\n",
      "Epoch 19/20\n",
      "13/13 [==============================] - 0s 3ms/step - loss: 26.9660 - mae: 3.8087 - val_loss: 30.9926 - val_mae: 3.9233\n",
      "Epoch 20/20\n",
      "13/13 [==============================] - 0s 3ms/step - loss: 25.9057 - mae: 3.6941 - val_loss: 25.9212 - val_mae: 3.4541\n"
     ]
    }
   ],
   "source": [
    "history = model.fit(x_train, y_train, batch_size=32, epochs=20,validation_data=(x_test, y_test))"
   ]
  },
  {
   "cell_type": "code",
   "execution_count": 35,
   "id": "77e85cac",
   "metadata": {},
   "outputs": [
    {
     "data": {
      "image/png": "[encoded data removed]",
      "text/plain": [
       "<Figure size 600x400 with 1 Axes>"
      ]
     },
     "metadata": {},
     "output_type": "display_data"
    }
   ],
   "source": [
    "pd.DataFrame(history.history).plot(figsize=(6,4))\n",
    "plt.title(\"Metrics graph\")\n",
    "plt.show()"
   ]
  },
  {
   "cell_type": "code",
   "execution_count": 36,
   "id": "e4152831",
   "metadata": {},
   "outputs": [
    {
     "name": "stdout",
     "output_type": "stream",
     "text": [
      "4/4 [==============================] - 1s 2ms/step\n"
     ]
    }
   ],
   "source": [
    "y_pred = model.predict(x_test)"
   ]
  },
  {
   "cell_type": "code",
   "execution_count": 37,
   "id": "1e6db88d",
   "metadata": {},
   "outputs": [
    {
     "data": {
      "image/png": "[encoded data removed]",
      "text/plain": [
       "<Figure size 640x480 with 1 Axes>"
      ]
     },
     "metadata": {},
     "output_type": "display_data"
    }
   ],
   "source": [
    "sns.regplot(x=y_test, y=y_pred)\n",
    "plt.title(\"Regression LIne for Predicted values\")\n",
    "plt.show()"
   ]
  },
  {
   "cell_type": "code",
   "execution_count": 45,
   "id": "b7ff6f08",
   "metadata": {},
   "outputs": [
    {
     "name": "stdout",
     "output_type": "stream",
     "text": [
      "MAE is 3.454099412992889\n",
      "MSE IS 25.921184986148536\n",
      "R2 score is 0.6359486992333271\n"
     ]
    }
   ],
   "source": [
    "print(f\"MAE is {metrics.mean_absolute_error(y_test, y_pred)}\")\n",
    "print(f\"MSE IS {metrics.mean_squared_error(y_test,y_pred)}\")\n",
    "print(f\"R2 score is {metrics.r2_score(y_test,y_pred)}\")"
   ]
  },
  {
   "cell_type": "code",
   "execution_count": null,
   "id": "86e6eba6",
   "metadata": {},
   "outputs": [],
   "source": []
  },
  {
   "cell_type": "code",
   "execution_count": null,
   "id": "2d924ef5",
   "metadata": {},
   "outputs": [],
   "source": []
  }
 ],
 "metadata": {
  "kernelspec": {
   "display_name": "Python 3 (ipykernel)",
   "language": "python",
   "name": "python3"
  },
  "language_info": {
   "codemirror_mode": {
    "name": "ipython",
    "version": 3
   },
   "file_extension": ".py",
   "mimetype": "text/x-python",
   "name": "python",
   "nbconvert_exporter": "python",
   "pygments_lexer": "ipython3",
   "version": "3.10.12"
  }
 },
 "nbformat": 4,
 "nbformat_minor": 5
}
